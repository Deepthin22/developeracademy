{
 "cells": [
  {
   "cell_type": "code",
   "execution_count": 3,
   "metadata": {},
   "outputs": [
    {
     "name": "stdout",
     "output_type": "stream",
     "text": [
      "variable\n",
      "variable\n",
      "variable\n",
      "variable\n",
      "variable\n",
      "variable\n",
      "variable\n",
      "variable\n",
      "variable\n",
      "variable\n",
      "variable\n",
      "variable\n",
      "variable\n",
      "variable\n",
      "variable\n",
      "variable\n",
      "variable\n",
      "variable\n",
      "variable\n",
      "variable\n"
     ]
    }
   ],
   "source": [
    "variable= \"hello world\"\n",
    "## use for loop\n",
    "for i in range(20):\n",
    " print (\"variable\")\n"
   ]
  },
  {
   "cell_type": "code",
   "execution_count": 7,
   "metadata": {},
   "outputs": [
    {
     "name": "stdout",
     "output_type": "stream",
     "text": [
      "1 x 5 = 5\n",
      "2 x 5 = 10\n",
      "3 x 5 = 15\n",
      "4 x 5 = 20\n",
      "5 x 5 = 25\n",
      "6 x 5 = 30\n",
      "7 x 5 = 35\n",
      "8 x 5 = 40\n",
      "9 x 5 = 45\n",
      "10 x 5 = 50\n",
      "11 x 5 = 55\n",
      "12 x 5 = 60\n"
     ]
    }
   ],
   "source": [
    "##program for time table\n",
    "times_table= int(input(\"Enter a time table you want me to display\"))\n",
    "## use for loop\n",
    "for i in range(1 , 13):\n",
    "    print(f\"{i} x {times_table} = {i * times_table}\")\n",
    " "
   ]
  },
  {
   "cell_type": "code",
   "execution_count": 9,
   "metadata": {},
   "outputs": [
    {
     "ename": "IndentationError",
     "evalue": "unexpected indent (2269789401.py, line 5)",
     "output_type": "error",
     "traceback": [
      "\u001b[1;36m  Cell \u001b[1;32mIn[9], line 5\u001b[1;36m\u001b[0m\n\u001b[1;33m    print(total)\u001b[0m\n\u001b[1;37m    ^\u001b[0m\n\u001b[1;31mIndentationError\u001b[0m\u001b[1;31m:\u001b[0m unexpected indent\n"
     ]
    }
   ],
   "source": [
    "##assigning operator =\n",
    "variable1=2\n",
    "variable2=10\n",
    "total= variable1+variable2\n",
    " print(total)\n",
    " "
   ]
  },
  {
   "cell_type": "code",
   "execution_count": 11,
   "metadata": {},
   "outputs": [
    {
     "name": "stdout",
     "output_type": "stream",
     "text": [
      "14\n"
     ]
    }
   ],
   "source": [
    "number1=int(input(\"Enter first number\"))\n",
    "number2=int(input(\"Enter second number\"))\n",
    "total = (number1+number2)\n",
    "print(total)\n",
    " \n"
   ]
  },
  {
   "cell_type": "code",
   "execution_count": 12,
   "metadata": {},
   "outputs": [
    {
     "data": {
      "text/plain": [
       "1.4"
      ]
     },
     "execution_count": 12,
     "metadata": {},
     "output_type": "execute_result"
    }
   ],
   "source": [
    "7/5\n"
   ]
  },
  {
   "cell_type": "code",
   "execution_count": 13,
   "metadata": {},
   "outputs": [
    {
     "name": "stdout",
     "output_type": "stream",
     "text": [
      "30\n",
      "10.0\n"
     ]
    }
   ],
   "source": [
    "first_num=int(input(\"enter first number\"))\n",
    "second_num=int(input(\"enter the second number\"))\n",
    "third_num=int(input(\"enter the third number\"))\n",
    "total=(first_num+second_num+third_num)\n",
    "average=total/3\n",
    "print(total)\n",
    "print(average)\n",
    "\n"
   ]
  },
  {
   "cell_type": "code",
   "execution_count": 14,
   "metadata": {},
   "outputs": [],
   "source": [
    "entry = \"\"\n",
    "password=\"letmein\"\n",
    "while entry!=password:\n",
    "    entry= input(\"enter your password\")"
   ]
  },
  {
   "cell_type": "code",
   "execution_count": 21,
   "metadata": {},
   "outputs": [
    {
     "name": "stdout",
     "output_type": "stream",
     "text": [
      "correct\n",
      "correct\n",
      "wrong\n",
      "wrong\n",
      "wrong\n",
      "wrong\n",
      "wrong\n",
      "wrong\n",
      "wrong\n",
      "wrong\n",
      "wrong\n"
     ]
    }
   ],
   "source": [
    "guess=\"\"\n",
    "while guess!=\"rumplestilskin\":\n",
    " guess=input(\"guess my name\")\n",
    "print(\"correct\")\n",
    "while True:\n",
    "    guess=input(\"guess my name\")\n",
    "    if guess==\"rumplestilskin\":\n",
    "     print(\"correct\")\n",
    "    break\n",
    "print(\"wrong\")\n",
    "while True:\n",
    "    guess=input(\"guess my name\")\n",
    "    if guess!=\"rumplestilskin\":\n",
    "     print(\"wrong\")\n",
    "    continue\n",
    "print(\"correct\")\n",
    "break\n",
    "    \n"
   ]
  },
  {
   "cell_type": "code",
   "execution_count": 3,
   "metadata": {},
   "outputs": [
    {
     "name": "stdout",
     "output_type": "stream",
     "text": [
      "5.0\n",
      "5.0\n"
     ]
    }
   ],
   "source": [
    "total=0\n",
    "while True:\n",
    "    number=input(\"please enter a number or enter 0 to stop\")\n",
    "    if number== \"0\":\n",
    "        break\n",
    "    total= float(number)\n",
    "    print(total)\n",
    "        \n",
    "\n"
   ]
  },
  {
   "cell_type": "code",
   "execution_count": 22,
   "metadata": {},
   "outputs": [
    {
     "name": "stdout",
     "output_type": "stream",
     "text": [
      "you are born on leap Year\n"
     ]
    }
   ],
   "source": [
    "##program to know if you were born in leap year \n",
    "Year=int(input(\"enter your birth year\"))\n",
    "if((Year % 400 == 0) \n",
    "    or  \n",
    "     (Year % 100 != 0) \n",
    "     and  \n",
    "     (Year % 4 == 0)):   \n",
    "    print(\"you are born on leap Year\")\n",
    "else:\n",
    "    print(\"not leap year\")\n",
    "    \n",
    "    "
   ]
  },
  {
   "cell_type": "code",
   "execution_count": 30,
   "metadata": {},
   "outputs": [
    {
     "ename": "SyntaxError",
     "evalue": "invalid syntax (4134172403.py, line 9)",
     "output_type": "error",
     "traceback": [
      "\u001b[1;36m  Cell \u001b[1;32mIn[30], line 9\u001b[1;36m\u001b[0m\n\u001b[1;33m    and\u001b[0m\n\u001b[1;37m    ^\u001b[0m\n\u001b[1;31mSyntaxError\u001b[0m\u001b[1;31m:\u001b[0m invalid syntax\n"
     ]
    }
   ],
   "source": [
    "age=int(input(\"enter your age\"))\n",
    "swimcard=input(\"do you have a swimcard yes/no\")\n",
    "if age>65:\n",
    "    print(\"your entry is free\")\n",
    "else:\n",
    "    if age<20 :\n",
    "     print(\"your entry is free\")\n",
    "    elif age>20:\n",
    "        and\n",
    "        if(swimcard==\"yes\"):\n",
    "            print(\"price is 2.5\")\n",
    "            elif(swimcard==\"no\"):\n",
    "        print(\"fee is 5 Pounds\")\n",
    "        \n",
    "        \n",
    "        \n"
   ]
  },
  {
   "cell_type": "code",
   "execution_count": 31,
   "metadata": {},
   "outputs": [
    {
     "name": "stdout",
     "output_type": "stream",
     "text": [
      "Price = £2.50\n"
     ]
    }
   ],
   "source": [
    "age = int(input(\"Please enter your age\"))\n",
    "\n",
    "swimcard = input(\"Please enter yes if you have a swimcard\")\n",
    "\n",
    "if age < 20 or age > 65:\n",
    "\n",
    "    print(\"Price = £0.00\")\n",
    "\n",
    "else:\n",
    "\n",
    "    if swimcard == \"yes\":\n",
    "\n",
    "        print(\"Price = £2.50\")\n",
    "\n",
    "    elif swimcard != \"yes\":\n",
    "\n",
    "        print(\"Price = £5.00\")"
   ]
  },
  {
   "cell_type": "code",
   "execution_count": 38,
   "metadata": {},
   "outputs": [
    {
     "name": "stdout",
     "output_type": "stream",
     "text": [
      "second number is greater\n"
     ]
    }
   ],
   "source": [
    "##task 4 finding greater number from two numbers\n",
    "num1=int(input(\"enter the first  number\"))\n",
    "num2=int(input(\"enter the second number\"))\n",
    "if (num1>num2):\n",
    "    print(\"first number is greater\")\n",
    "else:\n",
    "    print(\"second number is greater\")"
   ]
  }
 ],
 "metadata": {
  "kernelspec": {
   "display_name": "Python 3",
   "language": "python",
   "name": "python3"
  },
  "language_info": {
   "codemirror_mode": {
    "name": "ipython",
    "version": 3
   },
   "file_extension": ".py",
   "mimetype": "text/x-python",
   "name": "python",
   "nbconvert_exporter": "python",
   "pygments_lexer": "ipython3",
   "version": "3.10.2"
  },
  "orig_nbformat": 4,
  "vscode": {
   "interpreter": {
    "hash": "26de051ba29f2982a8de78e945f0abaf191376122a1563185a90213a26c5da77"
   }
  }
 },
 "nbformat": 4,
 "nbformat_minor": 2
}
